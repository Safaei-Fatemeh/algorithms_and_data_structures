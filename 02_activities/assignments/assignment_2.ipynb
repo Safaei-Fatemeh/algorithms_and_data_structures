{
 "cells": [
  {
   "cell_type": "markdown",
   "metadata": {},
   "source": [
    "# Practice Interview\n",
    "\n",
    "## Objective\n",
    "\n",
    "_*The partner assignment aims to provide participants with the opportunity to practice coding in an interview context. You will analyze your partner's Assignment 1. Moreover, code reviews are common practice in a software development team. This assignment should give you a taste of the code review process.*_\n",
    "\n",
    "## Group Size\n",
    "\n",
    "Each group should have 2 people. You will be assigned a partner\n",
    "\n",
    "## Part 1:\n",
    "\n",
    "You and your partner must share each other's Assignment 1 submission."
   ]
  },
  {
   "cell_type": "markdown",
   "metadata": {},
   "source": [
    "\n",
    "## Part 2:\n",
    "\n",
    "Create a Jupyter Notebook, create 6 of the following headings, and complete the following for your partner's assignment 1:\n",
    "\n",
    "-   Paraphrase the problem in your own words.\n"
   ]
  },
  {
   "cell_type": "markdown",
   "metadata": {},
   "source": [
    "The goal is to find all paths in a binary tree starting from the root and ending at each leaf node. A leaf node is defined as a node with no left or right child. The solution should return a list of lists, where each inner list represents a unique root-to-leaf path."
   ]
  },
  {
   "cell_type": "markdown",
   "metadata": {},
   "source": [
    "\n",
    "-   Create 1 new example that demonstrates you understand the problem. Trace/walkthrough 1 example that your partner made and explain it.\n"
   ]
  },
  {
   "cell_type": "markdown",
   "metadata": {},
   "source": [
    "New Example\n",
    "Input:\n",
    "Tree: [5, 3, 8, 1, 4]\n",
    "\n",
    "Output:\n",
    "Paths:\n",
    "[[5, 3, 1], [5, 3, 4], [5, 8]]\n",
    "\n",
    "Explanation:\n",
    "\n",
    "Root node 5 has left child 3 and right child 8.\n",
    "Node 3 has children 1 and 4, which are leaf nodes.\n",
    "Node 8 is a leaf node."
   ]
  },
  {
   "cell_type": "markdown",
   "metadata": {},
   "source": [
    "Trace One Partner Example:\n",
    "\n",
    "Input: [10, 9, 7, 8]\n",
    "\n",
    "Steps:\n",
    "\n",
    "Start at root node 10. Add 10 to the path.\n",
    "\n",
    "Traverse left to node 9. Add 9 to the path.\n",
    "\n",
    "Traverse left to node 8. Add 8 to the path.\n",
    "\n",
    "Node 8 is a leaf node. Save path [10, 9, 8].\n",
    "\n",
    "Backtrack to node 10 and traverse right to node 7.\n",
    "\n",
    "Node 7 is a leaf node. Save path [10, 7].\n",
    "\n",
    "Output:\n",
    "[[10, 9, 8], [10, 7]]"
   ]
  },
  {
   "cell_type": "markdown",
   "metadata": {},
   "source": [
    "\n",
    "-   Copy the solution your partner wrote. \n"
   ]
  },
  {
   "cell_type": "markdown",
   "metadata": {},
   "source": [
    "The partner wrote two codes! I got confused.\n",
    "I selected one of them for here!"
   ]
  },
  {
   "cell_type": "code",
   "execution_count": 2,
   "metadata": {},
   "outputs": [],
   "source": [
    "from typing import List"
   ]
  },
  {
   "cell_type": "code",
   "execution_count": 3,
   "metadata": {},
   "outputs": [],
   "source": [
    "class TreeNode:\n",
    "    def __init__(self, val=0, left=None, right=None):\n",
    "        self.val = val\n",
    "        self.left = left\n",
    "        self.right = right\n",
    "\n",
    "def bt_path(root: TreeNode) -> List[List[int]]:\n",
    "    def dfs(node, path, result):\n",
    "        if not node:\n",
    "            return\n",
    "        \n",
    "        # Add the current node's value to the path\n",
    "        path.append(node.val)\n",
    "        \n",
    "        # If leaf node, add to the result\n",
    "        if not node.left and not node.right:\n",
    "            result.append(path[:])      # Use slicing to copy the path\n",
    "        else:\n",
    "            # Recurse on left and right children\n",
    "            dfs(node.left, path, result)\n",
    "            dfs(node.right, path, result)\n",
    "        \n",
    "        # Backtrack to explore other paths\n",
    "        path.pop()\n",
    "\n",
    "    result = []\n",
    "    dfs(root, [], result)\n",
    "    return result\n",
    "\n",
    "# Test\n",
    "def create_tree(values):\n",
    "    if not values:\n",
    "        return None\n",
    "    nodes = [TreeNode(val) if val is not None else None for val in values]\n",
    "    for i, node in enumerate(nodes):\n",
    "        if node:\n",
    "            left_index = 2 * i + 1\n",
    "            right_index = 2 * i + 2\n",
    "            if left_index < len(nodes):\n",
    "                node.left = nodes[left_index]\n",
    "            if right_index < len(nodes):\n",
    "                node.right = nodes[right_index]\n",
    "    return nodes[0]"
   ]
  },
  {
   "cell_type": "markdown",
   "metadata": {},
   "source": [
    "\n",
    "-   Explain why their solution works in your own words.\n"
   ]
  },
  {
   "cell_type": "markdown",
   "metadata": {},
   "source": [
    "Approach: This approach to explore all paths from the root to each leaf node.\n",
    "\n",
    "Path Construction: It appends the current node’s value to a path list during traversal.\n",
    "\n",
    "Leaf Node Detection: If a node has no left or right children, it is identified as a leaf node, and the current path is added to the result list.\n",
    "\n",
    "Backtracking: After processing a node, it removes the node from the path to backtrack and explore other potential paths."
   ]
  },
  {
   "cell_type": "markdown",
   "metadata": {},
   "source": [
    "\n",
    "-   Explain the problem’s time and space complexity in your own words.\n"
   ]
  },
  {
   "cell_type": "markdown",
   "metadata": {},
   "source": [
    "#### Time Complexity: \n",
    "\n",
    "The function visits each node exactly once. For n nodes, the time complexity is linear, O(n).\n",
    "\n",
    "#### Space Complexity: \n",
    "\n",
    "The space complexity is determined by the height of the tree (h), which represents the maximum recursion depth.\n",
    "In a skewed tree, h could be n (worst case -> O(n))."
   ]
  },
  {
   "cell_type": "markdown",
   "metadata": {},
   "source": [
    "\n",
    "-   Critique your partner's solution, including explanation, and if there is anything that should be adjusted.\n"
   ]
  },
  {
   "cell_type": "markdown",
   "metadata": {},
   "source": [
    "The solution is well-structured and uses recursion effectively.\n",
    "Backtracking is implemented correctly to ensure paths are not overwritten or mixed up.\n",
    "Edge cases (e.g., empty trees) are handled well.\n",
    "\n",
    "However, I think the following items could be usefull for improvement:\n",
    "\n",
    "Code Readability: Add comments to explain each step of the DFS process for clarity.\n",
    "\n",
    "Alternative Approach Mention: The explanation could benefit from briefly discussing the BFS approach in addition to the DFS method."
   ]
  },
  {
   "cell_type": "markdown",
   "metadata": {},
   "source": [
    "\n",
    "## Part 3:\n",
    "\n",
    "Please write a 200 word reflection documenting your process from assignment 1, and your presentation and review experience with your partner at the bottom of the Jupyter Notebook under a new heading \"Reflection.\" Again, export this Notebook as pdf.\n"
   ]
  },
  {
   "cell_type": "markdown",
   "metadata": {},
   "source": [
    "### Reflection"
   ]
  },
  {
   "cell_type": "markdown",
   "metadata": {},
   "source": [
    "I found this review process insightful, as it gave me a deeper understanding of solving problems in a binary tree context. Reviewing my partner’s solution helped me see how others approach recursion and DFS in Python. It also emphasized the importance of clear code documentation and handling edge cases in real-world coding scenarios. I appreciated the opportunity to learn from their thought process. This practice has improved my ability to analyze code critically and reinforced concepts like DFS, recursion, and tree traversal."
   ]
  },
  {
   "cell_type": "markdown",
   "metadata": {},
   "source": [
    "\n",
    "## Evaluation Criteria\n",
    "\n",
    "We are looking for the similar points as Assignment 1\n",
    "\n",
    "-   Problem is accurately stated\n",
    "\n",
    "-   New example is correct and easily understandable\n",
    "\n",
    "-   Correctness, time, and space complexity of the coding solution\n",
    "\n",
    "-   Clarity in explaining why the solution works, its time and space complexity\n",
    "\n",
    "-   Quality of critique of your partner's assignment, if necessary\n"
   ]
  },
  {
   "cell_type": "markdown",
   "metadata": {},
   "source": [
    "## Submission Information\n",
    "\n",
    "🚨 **Please review our [Assignment Submission Guide](https://github.com/UofT-DSI/onboarding/blob/main/onboarding_documents/submissions.md)** 🚨 for detailed instructions on how to format, branch, and submit your work. Following these guidelines is crucial for your submissions to be evaluated correctly.\n",
    "\n",
    "### Submission Parameters:\n",
    "* Submission Due Date: `HH:MM AM/PM - DD/MM/YYYY`\n",
    "* The branch name for your repo should be: `assignment-2`\n",
    "* What to submit for this assignment:\n",
    "    * This Jupyter Notebook (assignment_2.ipynb) should be populated and should be the only change in your pull request.\n",
    "* What the pull request link should look like for this assignment: `https://github.com/<your_github_username>/algorithms_and_data_structures/pull/<pr_id>`\n",
    "    * Open a private window in your browser. Copy and paste the link to your pull request into the address bar. Make sure you can see your pull request properly. This helps the technical facilitator and learning support staff review your submission easily.\n",
    "\n",
    "Checklist:\n",
    "- [ ] Created a branch with the correct naming convention.\n",
    "- [ ] Ensured that the repository is public.\n",
    "- [ ] Reviewed the PR description guidelines and adhered to them.\n",
    "- [ ] Verify that the link is accessible in a private browser window.\n",
    "\n",
    "If you encounter any difficulties or have questions, please don't hesitate to reach out to our team via our Slack at `#cohort-3-help`. Our Technical Facilitators and Learning Support staff are here to help you navigate any challenges.\n"
   ]
  }
 ],
 "metadata": {
  "kernelspec": {
   "display_name": "dsi_participant",
   "language": "python",
   "name": "python3"
  },
  "language_info": {
   "codemirror_mode": {
    "name": "ipython",
    "version": 3
   },
   "file_extension": ".py",
   "mimetype": "text/x-python",
   "name": "python",
   "nbconvert_exporter": "python",
   "pygments_lexer": "ipython3",
   "version": "3.9.19"
  }
 },
 "nbformat": 4,
 "nbformat_minor": 2
}
